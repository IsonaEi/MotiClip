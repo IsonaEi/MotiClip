{
 "cells": [
  {
   "cell_type": "code",
   "execution_count": 1,
   "metadata": {},
   "outputs": [
    {
     "name": "stdout",
     "output_type": "stream",
     "text": [
      "Current working directory: d:\\works\\Hsu_Lab\\Animal_Visusal_Fundation_Model\\MotiClip\\test\\20250317\n"
     ]
    }
   ],
   "source": [
    "import os\n",
    "import cv2\n",
    "import json\n",
    "import numpy as np\n",
    "import time\n",
    "\n",
    "# 從自訂模組引入 FFmpeg 讀取/寫入工具\n",
    "from utils.video_utils import ReadArray, WriteArray\n",
    "\n",
    "# 檢查工作目錄，方便定位檔案\n",
    "print('Current working directory:', os.getcwd())"
   ]
  },
  {
   "cell_type": "code",
   "execution_count": 2,
   "metadata": {},
   "outputs": [
    {
     "name": "stdout",
     "output_type": "stream",
     "text": [
      "影片資訊: 寬度=1440, 高度=1080, FPS=25.0, 總影格數=41818\n"
     ]
    }
   ],
   "source": [
    "# === Step 1: 使用 FFmpegVideoReader 讀取影片 ===\n",
    "VIDEO_PATH = 'data/video.mp4'  # 測試影片檔案路徑\n",
    "reader = ReadArray(VIDEO_PATH)\n",
    "print(f\"影片資訊: 寬度={reader.width}, 高度={reader.height}, FPS={reader.fps}, 總影格數={len(reader)}\")"
   ]
  },
  {
   "cell_type": "code",
   "execution_count": 3,
   "metadata": {},
   "outputs": [
    {
     "name": "stdout",
     "output_type": "stream",
     "text": [
      "找到 4 個 Arena\n",
      "目的點座標: [[  0.   0.]\n",
      " [720.   0.]\n",
      " [720. 720.]\n",
      " [  0. 720.]]\n"
     ]
    }
   ],
   "source": [
    "# === Step 2: 從 JSON 讀取 Arena 座標 ===\n",
    "JSON_PATH = 'data/video_info.json'  \n",
    "with open(JSON_PATH, 'r') as f:\n",
    "    metadata = json.load(f)\n",
    "\n",
    "# 根據範例，arena 資訊存於 'arena' 欄位，每個 arena 為一個字典，包含 id 與 points\n",
    "arenas = metadata.get('arena', [])\n",
    "print(f\"找到 {len(arenas)} 個 Arena\")\n",
    "\n",
    "# 假設輸出影像的統一解析度為 480x480\n",
    "OUTPUT_SIZE = (720, 720)  \n",
    "# 定義目的座標點（左上、右上、右下、左下）\n",
    "dst_pts = np.array([\n",
    "    [0, 0],\n",
    "    [OUTPUT_SIZE[0], 0],\n",
    "    [OUTPUT_SIZE[0], OUTPUT_SIZE[1]],\n",
    "    [0, OUTPUT_SIZE[1]]\n",
    "], dtype=np.float32)\n",
    "\n",
    "print('目的點座標:', dst_pts)"
   ]
  },
  {
   "cell_type": "code",
   "execution_count": 4,
   "metadata": {},
   "outputs": [
    {
     "name": "stdout",
     "output_type": "stream",
     "text": [
      "處理 arena_3，來源點座標: [[ 378.66666  567.99994]\n",
      " [ 709.3333   565.3333 ]\n",
      " [ 717.3333  1013.3333 ]\n",
      " [ 381.33334 1013.3333 ]]\n",
      "處理 arena_4，來源點座標: [[ 728.       554.6666 ]\n",
      " [1072.       549.3333 ]\n",
      " [1077.3334  1002.6666 ]\n",
      " [ 733.3333  1007.99994]]\n",
      "處理 arena_1，來源點座標: [[378.66666  82.66667]\n",
      " [709.3333   80.00001]\n",
      " [709.3333  541.3333 ]\n",
      " [378.66666 541.3333 ]]\n",
      "處理 arena_2，來源點座標: [[ 728.        74.66667]\n",
      " [1069.3334    72.00001]\n",
      " [1077.3334   528.     ]\n",
      " [ 733.3333   533.3333 ]]\n"
     ]
    },
    {
     "data": {
      "application/vnd.jupyter.widget-view+json": {
       "model_id": "a6a8d1c661d74742876e6c32cb2fefc9",
       "version_major": 2,
       "version_minor": 0
      },
      "text/plain": [
       "Arena arena_2:   0%|          | 0/41818 [00:00<?, ?it/s]"
      ]
     },
     "metadata": {},
     "output_type": "display_data"
    },
    {
     "data": {
      "application/vnd.jupyter.widget-view+json": {
       "model_id": "8e54ee58255f4197aa36553d33075d96",
       "version_major": 2,
       "version_minor": 0
      },
      "text/plain": [
       "Arena arena_1:   0%|          | 0/41818 [00:00<?, ?it/s]"
      ]
     },
     "metadata": {},
     "output_type": "display_data"
    },
    {
     "data": {
      "application/vnd.jupyter.widget-view+json": {
       "model_id": "fee368bc68504c44b5b3388d0d0e86c4",
       "version_major": 2,
       "version_minor": 0
      },
      "text/plain": [
       "Arena arena_4:   0%|          | 0/41818 [00:00<?, ?it/s]"
      ]
     },
     "metadata": {},
     "output_type": "display_data"
    },
    {
     "data": {
      "application/vnd.jupyter.widget-view+json": {
       "model_id": "1ccc331b8d78440486ea1db044c8ec13",
       "version_major": 2,
       "version_minor": 0
      },
      "text/plain": [
       "Arena arena_3:   0%|          | 0/41818 [00:00<?, ?it/s]"
      ]
     },
     "metadata": {},
     "output_type": "display_data"
    },
    {
     "name": "stdout",
     "output_type": "stream",
     "text": [
      "arena_1: 輸出完成，影片儲存於 arena_1_output.mp4\n",
      "arena_2: 輸出完成，影片儲存於 arena_2_output.mp4\n",
      "arena_3: 輸出完成，影片儲存於 arena_3_output.mp4\n",
      "arena_4: 輸出完成，影片儲存於 arena_4_output.mp4\n"
     ]
    }
   ],
   "source": [
    "import sys\n",
    "import numpy as np\n",
    "import cv2\n",
    "from concurrent.futures import ThreadPoolExecutor\n",
    "from tqdm.notebook import tqdm\n",
    "\n",
    "def process_arena(arena, position):\n",
    "    \"\"\"\n",
    "    處理單個 arena：\n",
    "      - 建立自己的讀取器、計算透視變換矩陣\n",
    "      - 初始化影片寫入器\n",
    "      - 逐影格進行讀取、透視變換、寫入\n",
    "      - 更新進度條 (tqdm)\n",
    "    \"\"\"\n",
    "    # 每個 arena 都重新初始化讀取器\n",
    "    reader = ReadArray(VIDEO_PATH)\n",
    "    arena_id = arena.get('id', 'arena_unknown')\n",
    "    src_pts = np.array(arena.get('points'), dtype=np.float32)\n",
    "    print(f\"處理 {arena_id}，來源點座標: {src_pts}\", flush=True)\n",
    "    \n",
    "    # 計算透視變換矩陣\n",
    "    M = cv2.getPerspectiveTransform(src_pts, dst_pts)\n",
    "    \n",
    "    # 輸出檔案名稱 (將存於腳本同目錄)\n",
    "    output_video = f\"{arena_id}_output.mp4\"\n",
    "    \n",
    "    # 初始化影片寫入器\n",
    "    writer = WriteArray(output_video, reader.fps)\n",
    "    \n",
    "    total_frames = len(reader)\n",
    "    # 建立進度條，position 參數用來區分各個 arena 的進度條顯示位置\n",
    "    pbar = tqdm(total=total_frames, desc=f\"Arena {arena_id}\", position=position, leave=True)\n",
    "    \n",
    "    for frame_index in range(total_frames):\n",
    "        # 讀取原始影格\n",
    "        frame = reader[frame_index]\n",
    "        if frame is None:\n",
    "            print(f\"警告: {arena_id} 無法讀取 frame {frame_index}，中止處理。\", flush=True)\n",
    "            break\n",
    "        \n",
    "        # 透視變換\n",
    "        warped_frame = cv2.warpPerspective(frame, M, OUTPUT_SIZE, flags=cv2.INTER_LINEAR)\n",
    "        # 寫入統一格式影片\n",
    "        writer.append(warped_frame)\n",
    "        pbar.update(1)\n",
    "    \n",
    "    writer.close()\n",
    "    pbar.close()\n",
    "    return f\"{arena_id}: 輸出完成，影片儲存於 {output_video}\"\n",
    "\n",
    "results = []\n",
    "# 使用 ThreadPoolExecutor 同時處理所有 arena，max_workers 設為 arena 數量\n",
    "with ThreadPoolExecutor(max_workers=len(arenas)) as executor:\n",
    "    futures = []\n",
    "    for pos, arena in enumerate(arenas):\n",
    "        futures.append(executor.submit(process_arena, arena, pos))\n",
    "    for future in futures:\n",
    "        results.append(future.result())\n",
    "\n",
    "# 列印每個 arena 的處理結果\n",
    "for res in results:\n",
    "    print(res)\n"
   ]
  }
 ],
 "metadata": {
  "kernelspec": {
   "display_name": "MotiClip",
   "language": "python",
   "name": "python3"
  },
  "language_info": {
   "codemirror_mode": {
    "name": "ipython",
    "version": 3
   },
   "file_extension": ".py",
   "mimetype": "text/x-python",
   "name": "python",
   "nbconvert_exporter": "python",
   "pygments_lexer": "ipython3",
   "version": "3.10.16"
  }
 },
 "nbformat": 4,
 "nbformat_minor": 2
}
